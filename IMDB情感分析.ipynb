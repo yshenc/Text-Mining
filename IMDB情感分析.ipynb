{
 "cells": [
  {
   "cell_type": "code",
   "execution_count": 1,
   "metadata": {},
   "outputs": [
    {
     "name": "stderr",
     "output_type": "stream",
     "text": [
      "/Users/yuchenshen/anaconda3/lib/python3.6/site-packages/h5py/__init__.py:36: FutureWarning: Conversion of the second argument of issubdtype from `float` to `np.floating` is deprecated. In future, it will be treated as `np.float64 == np.dtype(float).type`.\n",
      "  from ._conv import register_converters as _register_converters\n"
     ]
    },
    {
     "name": "stdout",
     "output_type": "stream",
     "text": [
      "1.11.0\n"
     ]
    }
   ],
   "source": [
    "import tensorflow as tf\n",
    "from tensorflow import keras \n",
    "import numpy as np\n",
    "\n",
    "print(tf.__version__)"
   ]
  },
  {
   "cell_type": "code",
   "execution_count": 2,
   "metadata": {},
   "outputs": [
    {
     "name": "stdout",
     "output_type": "stream",
     "text": [
      "Downloading data from https://storage.googleapis.com/tensorflow/tf-keras-datasets/imdb.npz\n",
      "17465344/17464789 [==============================] - 1s 0us/step\n"
     ]
    }
   ],
   "source": [
    "imdb = keras.datasets.imdb\n",
    "\n",
    "(train_data, train_labels), (test_data, test_labels) = imdb.load_data(num_words=10000)"
   ]
  },
  {
   "cell_type": "code",
   "execution_count": 3,
   "metadata": {},
   "outputs": [
    {
     "name": "stdout",
     "output_type": "stream",
     "text": [
      "Training entries: 25000, labels: 25000\n"
     ]
    }
   ],
   "source": [
    "print(\"Training entries: {}, labels: {}\".format(len(train_data), len(train_labels)))"
   ]
  },
  {
   "cell_type": "markdown",
   "metadata": {},
   "source": [
    "评论文本已转换为整数数组，每个整数表示字典中的特定单词。以下是第一篇评论文本转换后的形式："
   ]
  },
  {
   "cell_type": "code",
   "execution_count": 4,
   "metadata": {},
   "outputs": [
    {
     "name": "stdout",
     "output_type": "stream",
     "text": [
      "[1, 14, 22, 16, 43, 530, 973, 1622, 1385, 65, 458, 4468, 66, 3941, 4, 173, 36, 256, 5, 25, 100, 43, 838, 112, 50, 670, 2, 9, 35, 480, 284, 5, 150, 4, 172, 112, 167, 2, 336, 385, 39, 4, 172, 4536, 1111, 17, 546, 38, 13, 447, 4, 192, 50, 16, 6, 147, 2025, 19, 14, 22, 4, 1920, 4613, 469, 4, 22, 71, 87, 12, 16, 43, 530, 38, 76, 15, 13, 1247, 4, 22, 17, 515, 17, 12, 16, 626, 18, 2, 5, 62, 386, 12, 8, 316, 8, 106, 5, 4, 2223, 5244, 16, 480, 66, 3785, 33, 4, 130, 12, 16, 38, 619, 5, 25, 124, 51, 36, 135, 48, 25, 1415, 33, 6, 22, 12, 215, 28, 77, 52, 5, 14, 407, 16, 82, 2, 8, 4, 107, 117, 5952, 15, 256, 4, 2, 7, 3766, 5, 723, 36, 71, 43, 530, 476, 26, 400, 317, 46, 7, 4, 2, 1029, 13, 104, 88, 4, 381, 15, 297, 98, 32, 2071, 56, 26, 141, 6, 194, 7486, 18, 4, 226, 22, 21, 134, 476, 26, 480, 5, 144, 30, 5535, 18, 51, 36, 28, 224, 92, 25, 104, 4, 226, 65, 16, 38, 1334, 88, 12, 16, 283, 5, 16, 4472, 113, 103, 32, 15, 16, 5345, 19, 178, 32]\n"
     ]
    }
   ],
   "source": [
    "print(train_data[0])"
   ]
  },
  {
   "cell_type": "markdown",
   "metadata": {},
   "source": [
    "电影评论的长度可能不同，但是神经网络的输入必须是相同长度，因此我们需要稍后解决此问题。以下代码显示了第一篇评论和第二篇评论分别包含的单词数量：\n",
    "\n"
   ]
  },
  {
   "cell_type": "code",
   "execution_count": 5,
   "metadata": {},
   "outputs": [
    {
     "data": {
      "text/plain": [
       "(218, 189)"
      ]
     },
     "execution_count": 5,
     "metadata": {},
     "output_type": "execute_result"
    }
   ],
   "source": [
    "len(train_data[0]), len(train_data[1])"
   ]
  },
  {
   "cell_type": "markdown",
   "metadata": {},
   "source": [
    "将整数转换回单词：\n"
   ]
  },
  {
   "cell_type": "code",
   "execution_count": 6,
   "metadata": {},
   "outputs": [
    {
     "name": "stdout",
     "output_type": "stream",
     "text": [
      "Downloading data from https://storage.googleapis.com/tensorflow/tf-keras-datasets/imdb_word_index.json\n",
      "1646592/1641221 [==============================] - 0s 0us/step\n"
     ]
    }
   ],
   "source": [
    "# A dictionary mapping words to an integer index\n",
    "word_index = imdb.get_word_index()\n",
    "\n",
    "# The first indices are reserved\n",
    "word_index = {k:(v+3) for k,v in word_index.items()} \n",
    "word_index[\"<PAD>\"] = 0\n",
    "word_index[\"<START>\"] = 1\n",
    "word_index[\"<UNK>\"] = 2  # unknown\n",
    "word_index[\"<UNUSED>\"] = 3\n",
    "\n",
    "reverse_word_index = dict([(value, key) for (key, value) in word_index.items()])\n",
    "\n",
    "def decode_review(text):\n",
    "    return ' '.join([reverse_word_index.get(i, '?') for i in text])"
   ]
  },
  {
   "cell_type": "code",
   "execution_count": 8,
   "metadata": {},
   "outputs": [
    {
     "data": {
      "text/plain": [
       "\"<START> this film was just brilliant casting location scenery story direction everyone's really suited the part they played and you could just imagine being there robert <UNK> is an amazing actor and now the same being director <UNK> father came from the same scottish island as myself so i loved the fact there was a real connection with this film the witty remarks throughout the film were great it was just brilliant so much that i bought the film as soon as it was released for <UNK> and would recommend it to everyone to watch and the fly fishing was amazing really cried at the end it was so sad and you know what they say if you cry at a film it must have been good and this definitely was also <UNK> to the two little boy's that played the <UNK> of norman and paul they were just brilliant children are often left out of the <UNK> list i think because the stars that play them all grown up are such a big profile for the whole film but these children are amazing and should be praised for what they have done don't you think the whole story was so lovely because it was true and was someone's life after all that was shared with us all\""
      ]
     },
     "execution_count": 8,
     "metadata": {},
     "output_type": "execute_result"
    }
   ],
   "source": [
    "decode_review(train_data[0])"
   ]
  },
  {
   "cell_type": "markdown",
   "metadata": {},
   "source": [
    "在输入到神经网络之前，整数数组形式的评论必须转换为张量。这种转换可以通过以下两种方式完成：\n",
    "\n",
    " 方法一：对数组进行独热编码（One-hot-encode），将其转换为0和1的向量。例如序列[3,5]将成为一个10,000维的向量，除索引3和5为1外，其余全部为零。然后，将其作为我们网络中的第一层——全连接层（稠密层，Dense layer）——以处理浮点向量数据。然而，这种方法会占用大量内存，需要一个num_words * num_reviews大小的矩阵。\n",
    " \n",
    "方法二：填充数组，使它们都具有相同的长度，然后创建一个形状为max_length * num_reviews的整数张量。我们可以使用能够处理这种形状的嵌入层（embedding layer）作为我们神经网络中的第一层。\n",
    "\n",
    "在本教程中，我们使用第二种方法。\n",
    "由于电影评论的长度必须相同，我们使用pad_sequences函数对长度进行标准化："
   ]
  },
  {
   "cell_type": "code",
   "execution_count": 9,
   "metadata": {},
   "outputs": [],
   "source": [
    "train_data = keras.preprocessing.sequence.pad_sequences(train_data,\n",
    "                                                        value=word_index[\"<PAD>\"],\n",
    "                                                        padding='post',\n",
    "                                                        maxlen=256)\n",
    "\n",
    "test_data = keras.preprocessing.sequence.pad_sequences(test_data,\n",
    "                                                       value=word_index[\"<PAD>\"],\n",
    "                                                       padding='post',\n",
    "                                                       maxlen=256)"
   ]
  },
  {
   "cell_type": "code",
   "execution_count": 10,
   "metadata": {},
   "outputs": [
    {
     "data": {
      "text/plain": [
       "(256, 256)"
      ]
     },
     "execution_count": 10,
     "metadata": {},
     "output_type": "execute_result"
    }
   ],
   "source": [
    "len(train_data[0]), len(train_data[1])"
   ]
  },
  {
   "cell_type": "code",
   "execution_count": 12,
   "metadata": {},
   "outputs": [
    {
     "name": "stdout",
     "output_type": "stream",
     "text": [
      "[   1   14   22   16   43  530  973 1622 1385   65  458 4468   66 3941\n",
      "    4  173   36  256    5   25  100   43  838  112   50  670    2    9\n",
      "   35  480  284    5  150    4  172  112  167    2  336  385   39    4\n",
      "  172 4536 1111   17  546   38   13  447    4  192   50   16    6  147\n",
      " 2025   19   14   22    4 1920 4613  469    4   22   71   87   12   16\n",
      "   43  530   38   76   15   13 1247    4   22   17  515   17   12   16\n",
      "  626   18    2    5   62  386   12    8  316    8  106    5    4 2223\n",
      " 5244   16  480   66 3785   33    4  130   12   16   38  619    5   25\n",
      "  124   51   36  135   48   25 1415   33    6   22   12  215   28   77\n",
      "   52    5   14  407   16   82    2    8    4  107  117 5952   15  256\n",
      "    4    2    7 3766    5  723   36   71   43  530  476   26  400  317\n",
      "   46    7    4    2 1029   13  104   88    4  381   15  297   98   32\n",
      " 2071   56   26  141    6  194 7486   18    4  226   22   21  134  476\n",
      "   26  480    5  144   30 5535   18   51   36   28  224   92   25  104\n",
      "    4  226   65   16   38 1334   88   12   16  283    5   16 4472  113\n",
      "  103   32   15   16 5345   19  178   32    0    0    0    0    0    0\n",
      "    0    0    0    0    0    0    0    0    0    0    0    0    0    0\n",
      "    0    0    0    0    0    0    0    0    0    0    0    0    0    0\n",
      "    0    0    0    0]\n"
     ]
    }
   ],
   "source": [
    "print(train_data[0])"
   ]
  },
  {
   "cell_type": "markdown",
   "metadata": {},
   "source": [
    "神经网络是由层的叠加来实现的，因此我们需要做两个架构性决策：\n",
    "\n",
    "模型中要使用多少层？\n",
    "每层要使用多少隐藏单元？\n",
    "\n",
    "在本例中，输入数据由单词索引数组组成，要预测的标签不是0就是1。我们可以建立这样一个模型来解决这个问题："
   ]
  },
  {
   "cell_type": "code",
   "execution_count": 13,
   "metadata": {},
   "outputs": [
    {
     "name": "stdout",
     "output_type": "stream",
     "text": [
      "_________________________________________________________________\n",
      "Layer (type)                 Output Shape              Param #   \n",
      "=================================================================\n",
      "embedding (Embedding)        (None, None, 16)          160000    \n",
      "_________________________________________________________________\n",
      "global_average_pooling1d (Gl (None, 16)                0         \n",
      "_________________________________________________________________\n",
      "dense (Dense)                (None, 16)                272       \n",
      "_________________________________________________________________\n",
      "dense_1 (Dense)              (None, 1)                 17        \n",
      "=================================================================\n",
      "Total params: 160,289\n",
      "Trainable params: 160,289\n",
      "Non-trainable params: 0\n",
      "_________________________________________________________________\n"
     ]
    }
   ],
   "source": [
    "# input shape is the vocabulary count used for the movie reviews (10,000 words)\n",
    "vocab_size = 10000\n",
    "\n",
    "model = keras.Sequential()\n",
    "model.add(keras.layers.Embedding(vocab_size, 16))\n",
    "model.add(keras.layers.GlobalAveragePooling1D())\n",
    "model.add(keras.layers.Dense(16, activation=tf.nn.relu))\n",
    "model.add(keras.layers.Dense(1, activation=tf.nn.sigmoid))\n",
    "\n",
    "model.summary()"
   ]
  },
  {
   "cell_type": "markdown",
   "metadata": {},
   "source": [
    "第一层是嵌入层（Embedding layer）。该层采用整数编码的词汇表，并查找每个词索引的嵌入向量。这些向量是作为模型训练学习的。向量为输出数组添加维度，生成的维度为：(batch, sequence, embedding)。\n",
    "\n",
    "接下来，全局平均池化层（GlobalAveragePooling1D layer）通过对序列维度求平均，为每个评论返回固定长度的输出向量。这允许模型以最简单的方式处理可变长度的输入。\n",
    "\n",
    "这个固定长度的输出向量通过一个带有16个隐藏单元的全连接层（稠密层，Dense layer）进行传输。\n",
    "\n",
    "最后一层与单个输出节点紧密连接。使用sigmoid激活函数，输出值是介于0和1之间的浮点数，表示概率或置信水平。"
   ]
  },
  {
   "cell_type": "code",
   "execution_count": 14,
   "metadata": {},
   "outputs": [],
   "source": [
    "model.compile(optimizer=tf.train.AdamOptimizer(),\n",
    "              loss='binary_crossentropy',\n",
    "              metrics=['accuracy'])"
   ]
  },
  {
   "cell_type": "code",
   "execution_count": 15,
   "metadata": {},
   "outputs": [],
   "source": [
    "x_val = train_data[:10000]\n",
    "partial_x_train = train_data[10000:]\n",
    "\n",
    "y_val = train_labels[:10000]\n",
    "partial_y_train = train_labels[10000:]"
   ]
  },
  {
   "cell_type": "code",
   "execution_count": 16,
   "metadata": {
    "scrolled": true
   },
   "outputs": [
    {
     "name": "stdout",
     "output_type": "stream",
     "text": [
      "Train on 15000 samples, validate on 10000 samples\n",
      "Epoch 1/40\n",
      "15000/15000 [==============================] - 1s 40us/step - loss: 0.6915 - acc: 0.6131 - val_loss: 0.6888 - val_acc: 0.6752\n",
      "Epoch 2/40\n",
      "15000/15000 [==============================] - 0s 20us/step - loss: 0.6828 - acc: 0.7229 - val_loss: 0.6764 - val_acc: 0.7520\n",
      "Epoch 3/40\n",
      "15000/15000 [==============================] - 0s 19us/step - loss: 0.6648 - acc: 0.7744 - val_loss: 0.6549 - val_acc: 0.7688\n",
      "Epoch 4/40\n",
      "15000/15000 [==============================] - 0s 22us/step - loss: 0.6354 - acc: 0.7819 - val_loss: 0.6234 - val_acc: 0.7801\n",
      "Epoch 5/40\n",
      "15000/15000 [==============================] - 0s 21us/step - loss: 0.5952 - acc: 0.8082 - val_loss: 0.5818 - val_acc: 0.7980\n",
      "Epoch 6/40\n",
      "15000/15000 [==============================] - 0s 19us/step - loss: 0.5475 - acc: 0.8248 - val_loss: 0.5373 - val_acc: 0.8110\n",
      "Epoch 7/40\n",
      "15000/15000 [==============================] - 0s 20us/step - loss: 0.4974 - acc: 0.8433 - val_loss: 0.4928 - val_acc: 0.8280\n",
      "Epoch 8/40\n",
      "15000/15000 [==============================] - 0s 20us/step - loss: 0.4498 - acc: 0.8580 - val_loss: 0.4526 - val_acc: 0.8408\n",
      "Epoch 9/40\n",
      "15000/15000 [==============================] - 0s 19us/step - loss: 0.4081 - acc: 0.8687 - val_loss: 0.4187 - val_acc: 0.8513\n",
      "Epoch 10/40\n",
      "15000/15000 [==============================] - 0s 23us/step - loss: 0.3720 - acc: 0.8813 - val_loss: 0.3914 - val_acc: 0.8566\n",
      "Epoch 11/40\n",
      "15000/15000 [==============================] - 0s 20us/step - loss: 0.3423 - acc: 0.8886 - val_loss: 0.3714 - val_acc: 0.8608\n",
      "Epoch 12/40\n",
      "15000/15000 [==============================] - 0s 19us/step - loss: 0.3179 - acc: 0.8940 - val_loss: 0.3518 - val_acc: 0.8684\n",
      "Epoch 13/40\n",
      "15000/15000 [==============================] - 0s 20us/step - loss: 0.2954 - acc: 0.9013 - val_loss: 0.3384 - val_acc: 0.8711\n",
      "Epoch 14/40\n",
      "15000/15000 [==============================] - 0s 21us/step - loss: 0.2768 - acc: 0.9065 - val_loss: 0.3264 - val_acc: 0.8748\n",
      "Epoch 15/40\n",
      "15000/15000 [==============================] - 0s 20us/step - loss: 0.2607 - acc: 0.9112 - val_loss: 0.3173 - val_acc: 0.8777\n",
      "Epoch 16/40\n",
      "15000/15000 [==============================] - 0s 20us/step - loss: 0.2468 - acc: 0.9154 - val_loss: 0.3098 - val_acc: 0.8801\n",
      "Epoch 17/40\n",
      "15000/15000 [==============================] - 0s 22us/step - loss: 0.2332 - acc: 0.9211 - val_loss: 0.3036 - val_acc: 0.8795\n",
      "Epoch 18/40\n",
      "15000/15000 [==============================] - 0s 19us/step - loss: 0.2214 - acc: 0.9248 - val_loss: 0.2985 - val_acc: 0.8828\n",
      "Epoch 19/40\n",
      "15000/15000 [==============================] - 0s 19us/step - loss: 0.2103 - acc: 0.9283 - val_loss: 0.2947 - val_acc: 0.8829\n",
      "Epoch 20/40\n",
      "15000/15000 [==============================] - 0s 19us/step - loss: 0.2006 - acc: 0.9319 - val_loss: 0.2913 - val_acc: 0.8837\n",
      "Epoch 21/40\n",
      "15000/15000 [==============================] - 0s 19us/step - loss: 0.1911 - acc: 0.9359 - val_loss: 0.2888 - val_acc: 0.8841\n",
      "Epoch 22/40\n",
      "15000/15000 [==============================] - 0s 19us/step - loss: 0.1823 - acc: 0.9398 - val_loss: 0.2873 - val_acc: 0.8846\n",
      "Epoch 23/40\n",
      "15000/15000 [==============================] - 0s 20us/step - loss: 0.1744 - acc: 0.9433 - val_loss: 0.2864 - val_acc: 0.8849\n",
      "Epoch 24/40\n",
      "15000/15000 [==============================] - 0s 21us/step - loss: 0.1664 - acc: 0.9476 - val_loss: 0.2850 - val_acc: 0.8852\n",
      "Epoch 25/40\n",
      "15000/15000 [==============================] - 0s 20us/step - loss: 0.1595 - acc: 0.9509 - val_loss: 0.2847 - val_acc: 0.8857\n",
      "Epoch 26/40\n",
      "15000/15000 [==============================] - 0s 20us/step - loss: 0.1525 - acc: 0.9529 - val_loss: 0.2850 - val_acc: 0.8855\n",
      "Epoch 27/40\n",
      "15000/15000 [==============================] - 0s 23us/step - loss: 0.1466 - acc: 0.9552 - val_loss: 0.2861 - val_acc: 0.8851\n",
      "Epoch 28/40\n",
      "15000/15000 [==============================] - 0s 20us/step - loss: 0.1405 - acc: 0.9583 - val_loss: 0.2859 - val_acc: 0.8862\n",
      "Epoch 29/40\n",
      "15000/15000 [==============================] - 0s 20us/step - loss: 0.1348 - acc: 0.9595 - val_loss: 0.2869 - val_acc: 0.8870\n",
      "Epoch 30/40\n",
      "15000/15000 [==============================] - 0s 22us/step - loss: 0.1299 - acc: 0.9618 - val_loss: 0.2885 - val_acc: 0.8862\n",
      "Epoch 31/40\n",
      "15000/15000 [==============================] - 0s 21us/step - loss: 0.1240 - acc: 0.9641 - val_loss: 0.2903 - val_acc: 0.8865\n",
      "Epoch 32/40\n",
      "15000/15000 [==============================] - 0s 21us/step - loss: 0.1194 - acc: 0.9661 - val_loss: 0.2924 - val_acc: 0.8849\n",
      "Epoch 33/40\n",
      "15000/15000 [==============================] - 0s 21us/step - loss: 0.1141 - acc: 0.9682 - val_loss: 0.2946 - val_acc: 0.8844\n",
      "Epoch 34/40\n",
      "15000/15000 [==============================] - 0s 23us/step - loss: 0.1098 - acc: 0.9696 - val_loss: 0.2977 - val_acc: 0.8851\n",
      "Epoch 35/40\n",
      "15000/15000 [==============================] - 0s 20us/step - loss: 0.1059 - acc: 0.9713 - val_loss: 0.2995 - val_acc: 0.8846\n",
      "Epoch 36/40\n",
      "15000/15000 [==============================] - 0s 21us/step - loss: 0.1012 - acc: 0.9735 - val_loss: 0.3027 - val_acc: 0.8840\n",
      "Epoch 37/40\n",
      "15000/15000 [==============================] - 0s 20us/step - loss: 0.0974 - acc: 0.9747 - val_loss: 0.3058 - val_acc: 0.8834\n",
      "Epoch 38/40\n",
      "15000/15000 [==============================] - 0s 20us/step - loss: 0.0941 - acc: 0.9747 - val_loss: 0.3096 - val_acc: 0.8817\n",
      "Epoch 39/40\n",
      "15000/15000 [==============================] - 0s 20us/step - loss: 0.0899 - acc: 0.9775 - val_loss: 0.3119 - val_acc: 0.8831\n",
      "Epoch 40/40\n",
      "15000/15000 [==============================] - 0s 19us/step - loss: 0.0863 - acc: 0.9789 - val_loss: 0.3157 - val_acc: 0.8823\n"
     ]
    }
   ],
   "source": [
    "history = model.fit(partial_x_train,\n",
    "                    partial_y_train,\n",
    "                    epochs=40,\n",
    "                    batch_size=512,\n",
    "                    validation_data=(x_val, y_val),\n",
    "                    verbose=1)"
   ]
  },
  {
   "cell_type": "code",
   "execution_count": 17,
   "metadata": {},
   "outputs": [
    {
     "name": "stdout",
     "output_type": "stream",
     "text": [
      "25000/25000 [==============================] - 0s 14us/step\n",
      "[0.33694223010063173, 0.87264]\n"
     ]
    }
   ],
   "source": [
    "results = model.evaluate(test_data, test_labels)\n",
    "\n",
    "print(results)"
   ]
  },
  {
   "cell_type": "code",
   "execution_count": 18,
   "metadata": {},
   "outputs": [
    {
     "data": {
      "text/plain": [
       "dict_keys(['val_loss', 'val_acc', 'loss', 'acc'])"
      ]
     },
     "execution_count": 18,
     "metadata": {},
     "output_type": "execute_result"
    }
   ],
   "source": [
    "history_dict = history.history\n",
    "history_dict.keys()"
   ]
  },
  {
   "cell_type": "code",
   "execution_count": 19,
   "metadata": {},
   "outputs": [
    {
     "data": {
      "image/png": "[encoded data removed]",
      "text/plain": [
       "<Figure size 432x288 with 1 Axes>"
      ]
     },
     "metadata": {},
     "output_type": "display_data"
    }
   ],
   "source": [
    "%matplotlib inline\n",
    "import matplotlib.pyplot as plt\n",
    "\n",
    "acc = history.history['acc']\n",
    "val_acc = history.history['val_acc']\n",
    "loss = history.history['loss']\n",
    "val_loss = history.history['val_loss']\n",
    "\n",
    "epochs = range(1, len(acc) + 1)\n",
    "\n",
    "# \"bo\" is for \"blue dot\"\n",
    "plt.plot(epochs, loss, 'bo', label='Training loss')\n",
    "# b is for \"solid blue line\"\n",
    "plt.plot(epochs, val_loss, 'b', label='Validation loss')\n",
    "plt.title('Training and validation loss')\n",
    "plt.xlabel('Epochs')\n",
    "plt.ylabel('Loss')\n",
    "plt.legend()\n",
    "\n",
    "plt.show()"
   ]
  },
  {
   "cell_type": "code",
   "execution_count": 20,
   "metadata": {},
   "outputs": [
    {
     "data": {
      "image/png": "[encoded data removed]",
      "text/plain": [
       "<Figure size 432x288 with 1 Axes>"
      ]
     },
     "metadata": {},
     "output_type": "display_data"
    }
   ],
   "source": [
    "plt.clf()   # clear figure\n",
    "acc_values = history_dict['acc']\n",
    "val_acc_values = history_dict['val_acc']\n",
    "\n",
    "plt.plot(epochs, acc, 'bo', label='Training acc')\n",
    "plt.plot(epochs, val_acc, 'b', label='Validation acc')\n",
    "plt.title('Training and validation accuracy')\n",
    "plt.xlabel('Epochs')\n",
    "plt.ylabel('Accuracy')\n",
    "plt.legend()\n",
    "\n",
    "plt.show()"
   ]
  }
 ],
 "metadata": {
  "kernelspec": {
   "display_name": "tensorflow",
   "language": "python",
   "name": "tensorflow"
  },
  "language_info": {
   "codemirror_mode": {
    "name": "ipython",
    "version": 3
   },
   "file_extension": ".py",
   "mimetype": "text/x-python",
   "name": "python",
   "nbconvert_exporter": "python",
   "pygments_lexer": "ipython3",
   "version": "3.6.5"
  }
 },
 "nbformat": 4,
 "nbformat_minor": 2
}
