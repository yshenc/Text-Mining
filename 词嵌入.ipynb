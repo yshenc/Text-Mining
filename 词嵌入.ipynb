{
 "cells": [
  {
   "cell_type": "markdown",
   "metadata": {},
   "source": [
    "https://www.kesci.com/home/project/5b6acf1d9889570010c88af1?from=groupmessage"
   ]
  },
  {
   "cell_type": "code",
   "execution_count": 1,
   "metadata": {},
   "outputs": [
    {
     "name": "stderr",
     "output_type": "stream",
     "text": [
      "/Users/yuchenshen/anaconda3/lib/python3.6/site-packages/h5py/__init__.py:36: FutureWarning: Conversion of the second argument of issubdtype from `float` to `np.floating` is deprecated. In future, it will be treated as `np.float64 == np.dtype(float).type`.\n",
      "  from ._conv import register_converters as _register_converters\n"
     ]
    }
   ],
   "source": [
    "import tensorflow as tf\n",
    "import numpy as np\n",
    "import pprint\n",
    "import re"
   ]
  },
  {
   "cell_type": "code",
   "execution_count": 2,
   "metadata": {},
   "outputs": [
    {
     "data": {
      "text/plain": [
       "{'/': 0,\n",
       " 'Listening': 1,\n",
       " 'Media': 2,\n",
       " 'Social': 3,\n",
       " '—': 4,\n",
       " '“': 5,\n",
       " '”': 6,\n",
       " '一个': 7,\n",
       " '一些': 8,\n",
       " '一起': 9,\n",
       " '上': 10,\n",
       " '上面': 11,\n",
       " '下': 12,\n",
       " '不接地气': 13,\n",
       " '不然': 14,\n",
       " '业务知识': 15,\n",
       " '中': 16,\n",
       " '主要': 17,\n",
       " '也': 18,\n",
       " '了解': 19,\n",
       " '事件': 20,\n",
       " '互联网': 21,\n",
       " '产品设计': 22,\n",
       " '人': 23,\n",
       " '介绍': 24,\n",
       " '仍': 25,\n",
       " '从业者': 26,\n",
       " '以': 27,\n",
       " '以及': 28,\n",
       " '传播': 29,\n",
       " '似乎': 30,\n",
       " '但': 31,\n",
       " '使用': 32,\n",
       " '借助': 33,\n",
       " '借鉴': 34,\n",
       " '停留': 35,\n",
       " '其他': 36,\n",
       " '其实': 37,\n",
       " '分析': 38,\n",
       " '分析思路': 39,\n",
       " '印象': 40,\n",
       " '即使': 41,\n",
       " '发展': 42,\n",
       " '只': 43,\n",
       " '可以': 44,\n",
       " '和': 45,\n",
       " '因为': 46,\n",
       " '在': 47,\n",
       " '处理': 48,\n",
       " '大': 49,\n",
       " '大家': 50,\n",
       " '大数据': 51,\n",
       " '大数据分析': 52,\n",
       " '大数据趋势分析': 53,\n",
       " '如何': 54,\n",
       " '完成': 55,\n",
       " '实操': 56,\n",
       " '对': 57,\n",
       " '对于': 58,\n",
       " '对象': 59,\n",
       " '将': 60,\n",
       " '将会': 61,\n",
       " '就': 62,\n",
       " '层面': 63,\n",
       " '工具': 64,\n",
       " '已经': 65,\n",
       " '市场调研': 66,\n",
       " '帮助': 67,\n",
       " '应用': 68,\n",
       " '很': 69,\n",
       " '微指数': 70,\n",
       " '情况': 71,\n",
       " '我们': 72,\n",
       " '或者': 73,\n",
       " '技术': 74,\n",
       " '方法': 75,\n",
       " '是': 76,\n",
       " '最后': 77,\n",
       " '本文': 78,\n",
       " '来': 79,\n",
       " '案例': 80,\n",
       " '概念': 81,\n",
       " '比如': 82,\n",
       " '汽车': 83,\n",
       " '然而': 84,\n",
       " '熟悉': 85,\n",
       " '用到': 86,\n",
       " '用户画像': 87,\n",
       " '百度指数': 88,\n",
       " '的': 89,\n",
       " '目标': 90,\n",
       " '社会化媒体': 91,\n",
       " '社会化聆听': 92,\n",
       " '笔者': 93,\n",
       " '等': 94,\n",
       " '紧密': 95,\n",
       " '经过': 96,\n",
       " '给人': 97,\n",
       " '绝': 98,\n",
       " '编程': 99,\n",
       " '联系': 100,\n",
       " '能': 101,\n",
       " '自己': 102,\n",
       " '虽然': 103,\n",
       " '行业': 104,\n",
       " '触手可及': 105,\n",
       " '讲述': 106,\n",
       " '词': 107,\n",
       " '说': 108,\n",
       " '读者': 109,\n",
       " '谷歌趋势': 110,\n",
       " '达成': 111,\n",
       " '运营': 112,\n",
       " '这个': 113,\n",
       " '这些': 114,\n",
       " '这几年': 115,\n",
       " '这样': 116,\n",
       " '这种': 117,\n",
       " '进行': 118,\n",
       " '进行分析': 119,\n",
       " '部分': 120,\n",
       " '都是': 121,\n",
       " '重要手段': 122,\n",
       " '隔行不隔理': 123,\n",
       " '隔行如隔山': 124,\n",
       " '需要': 125,\n",
       " '领域': 126,\n",
       " '高': 127,\n",
       " '（': 128,\n",
       " '）': 129,\n",
       " '）来': 130}"
      ]
     },
     "execution_count": 2,
     "metadata": {},
     "output_type": "execute_result"
    }
   ],
   "source": [
    "#对字符串进行分词\n",
    "\n",
    "text = '''然而 ， 即使 这样 ， 大数据 （ 分析 ） 对于 绝 大 部分 人 来 说 仍 停留 在 概念 层面 ， 或者 是 给人 很 “ 高 大 上 ” 、 不接地气 的 印象 ，\n",
    "因为 这个 词 似乎 和 “ 技术 ” 、 “ 编程 ” 紧密 联系 在 一起 。\n",
    "\n",
    "其实 不然 ， 经过 这几年 的 发展 ， 大数据 应用 已经 触手可及 ，\n",
    "比如 笔者 上面 用到 的 谷歌趋势 ，\n",
    "以及 互联网 从业者 很 熟悉 的 百度指数、 微指数 等  ， 都是 一些 大家 触手可及 的 大数据分析 工具 。\n",
    "借助 这些 工具 ， 我们 只 需要 在 了解 业务知识 的 情况 下 ，就 能 完成 一些 大数据趋势分析 、 事件 （ 传播 ） 分析 、用户画像 分析 等 。\n",
    "\n",
    "在 本文 中 ， 笔者 将会 介绍 大数据 分析 主要 的 处理 对象 — 社会化媒体 （ Social Media ） ，\n",
    "以及 对 社会化媒体 进行分析 的 重要手段 — — 社会化聆听 （ Social  Listening ） 。 最后 ， 笔者 将 以 汽车 行业 的 一个 实操 案例 ， 来 讲述 如何 使用 社会化聆听 （ 工具 ）来 对 社会化媒体 大数据 进行 分析 ， 虽然 “ 隔行如隔山 ” ， 但 “ 隔行不隔理 ”， 其他 领域 的 读者 也 可以 借鉴 这种 分析思路 和 方法 ， 来 帮助 自己 在 产品设计 / 运营 、 市场调研 中 达成 目标 。'''\n",
    "\n",
    "tokenized = text.split(' ')\n",
    "tokenized = [i.strip().strip('|、|，|。(|)|\\n')  for i in tokenized]\n",
    "tokenized = [i.strip()  for i in tokenized if len(i) >0]\n",
    "vocab = {k:v for v,k in enumerate(np.unique(tokenized))}\n",
    "vocab"
   ]
  },
  {
   "cell_type": "markdown",
   "metadata": {},
   "source": [
    "现在，我们需要设定词向量的大小（Embedding size），也就是每个词汇向量的维度（the dimension of each vector），在这里，我将维数设定为50，词汇长度则是词汇表的词汇数量（len(vocab)）\n",
    "\n"
   ]
  },
  {
   "cell_type": "code",
   "execution_count": 3,
   "metadata": {},
   "outputs": [
    {
     "name": "stdout",
     "output_type": "stream",
     "text": [
      "131\n"
     ]
    }
   ],
   "source": [
    "EMBED_SIZE = 50\n",
    "VOCAB_LEN = len(vocab.keys())\n",
    "\n",
    "print(VOCAB_LEN)"
   ]
  },
  {
   "cell_type": "markdown",
   "metadata": {},
   "source": [
    "我们知道需要设定我们想要嵌入的词汇（words）的id。 下面，我们将采用“新浪微热点”和“新浪微舆情”这两个词汇作为示例：\n"
   ]
  },
  {
   "cell_type": "code",
   "execution_count": 4,
   "metadata": {},
   "outputs": [],
   "source": [
    "words_ids = tf.constant([vocab[\"百度指数\"], vocab[\"大数据\"]])"
   ]
  },
  {
   "cell_type": "markdown",
   "metadata": {},
   "source": [
    "记住，words_ids代表词汇表（vocabolary）中某些词汇的ID。 词汇表（vocabolary）是从词汇（tokens）到ID的映射。\n",
    "\n",
    "WHY 为什么我们需要这么做? 神经网络只能输入数字, 所以我们需要将数字传给嵌入层（embedding layer）"
   ]
  },
  {
   "cell_type": "code",
   "execution_count": 9,
   "metadata": {},
   "outputs": [
    {
     "name": "stdout",
     "output_type": "stream",
     "text": [
      "[[0.74391127 0.02930129 0.38832843 0.3631438  0.43186665 0.45800328\n",
      "  0.9129416  0.2808609  0.9585413  0.8009238  0.35639906 0.49088562\n",
      "  0.12949634 0.5944823  0.6212542  0.8009771  0.5463362  0.24998045\n",
      "  0.9633652  0.3514458  0.13889301 0.5647832  0.48341334 0.6642556\n",
      "  0.68493557 0.9660964  0.31583393 0.51296854 0.13751388 0.8680496\n",
      "  0.5509461  0.2295897  0.03370833 0.496992   0.31215584 0.05183256\n",
      "  0.78546715 0.981969   0.14507663 0.7488055  0.6125692  0.32402527\n",
      "  0.3705089  0.56136465 0.41353774 0.8478087  0.37777352 0.72365654\n",
      "  0.80633986 0.5472679 ]\n",
      " [0.21012688 0.21627796 0.18510914 0.7879895  0.10957861 0.5343449\n",
      "  0.3254664  0.13342118 0.83059764 0.14732063 0.6508204  0.95676494\n",
      "  0.6126257  0.955376   0.7836976  0.7706263  0.55114603 0.29065287\n",
      "  0.41188657 0.37956345 0.82569003 0.58541584 0.7692239  0.6933913\n",
      "  0.48301625 0.29444826 0.30220413 0.3588251  0.86243665 0.17175126\n",
      "  0.17906988 0.8980262  0.9128767  0.51094115 0.6202601  0.2792374\n",
      "  0.73681223 0.9730966  0.15436864 0.7648984  0.92095315 0.9359536\n",
      "  0.6919255  0.82434356 0.30199277 0.01676631 0.841797   0.48101532\n",
      "  0.29579663 0.66754067]]\n"
     ]
    }
   ],
   "source": [
    "embeddings = tf.Variable(tf.random_uniform([VOCAB_LEN, EMBED_SIZE]))\n",
    "embed = tf.nn.embedding_lookup(embeddings, words_ids)\n",
    "\n",
    "with tf.Session() as sess:\n",
    "    sess.run(tf.global_variables_initializer())\n",
    "    print(sess.run(embed))"
   ]
  },
  {
   "cell_type": "code",
   "execution_count": null,
   "metadata": {},
   "outputs": [],
   "source": []
  }
 ],
 "metadata": {
  "kernelspec": {
   "display_name": "tensorflow",
   "language": "python",
   "name": "tensorflow"
  },
  "language_info": {
   "codemirror_mode": {
    "name": "ipython",
    "version": 3
   },
   "file_extension": ".py",
   "mimetype": "text/x-python",
   "name": "python",
   "nbconvert_exporter": "python",
   "pygments_lexer": "ipython3",
   "version": "3.6.5"
  }
 },
 "nbformat": 4,
 "nbformat_minor": 2
}
